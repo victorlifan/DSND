{
 "cells": [
  {
   "cell_type": "markdown",
   "metadata": {},
   "source": [
    "# Combining Data\n",
    "\n",
    "Practice combining data from two different data sets. In the same folder as this Jupyter notebook, there are two csv files:\n",
    "* rural_population_percent.csv\n",
    "* electricity_access_percent.csv\n",
    "\n",
    "They both come from the World Bank Indicators data. \n",
    "* https://data.worldbank.org/indicator/SP.RUR.TOTL.ZS\n",
    "* https://data.worldbank.org/indicator/EG.ELC.ACCS.ZS\n",
    "\n",
    "The rural populaton data represents the percent of a country's population that is rural over time. The electricity access data shows the percentage of people with access to electricity.\n",
    "\n",
    "In this exercise, you will combine these two data sets together into one pandas data frame."
   ]
  },
  {
   "cell_type": "markdown",
   "metadata": {},
   "source": [
    "# Exercise 1\n",
    "\n",
    "Combine the two data sets using the [pandas concat method](https://pandas.pydata.org/pandas-docs/stable/merging.html). In other words, find the union of the two data sets."
   ]
  },
  {
   "cell_type": "code",
   "execution_count": 6,
   "metadata": {
    "scrolled": true
   },
   "outputs": [
    {
     "name": "stdout",
     "output_type": "stream",
     "text": [
      "﻿\"Data Source\",\"World Development Indicators\",\n",
      "\n",
      "\n",
      "\n",
      "\"Last Updated Date\",\"2018-06-28\",\n",
      "\n",
      "\n",
      "\n",
      "\"Country Name\",\"Country Code\",\"Indicator Name\",\"Indicator Code\",\"1960\",\"1961\",\"1962\",\"1963\",\"1964\",\"1965\",\"1966\",\"1967\",\"1968\",\"1969\",\"1970\",\"1971\",\"1972\",\"1973\",\"1974\",\"1975\",\"1976\",\"1977\",\"1978\",\"1979\",\"1980\",\"1981\",\"1982\",\"1983\",\"1984\",\"1985\",\"1986\",\"1987\",\"1988\",\"1989\",\"1990\",\"1991\",\"1992\",\"1993\",\"1994\",\"1995\",\"1996\",\"1997\",\"1998\",\"1999\",\"2000\",\"2001\",\"2002\",\"2003\",\"2004\",\"2005\",\"2006\",\"2007\",\"2008\",\"2009\",\"2010\",\"2011\",\"2012\",\"2013\",\"2014\",\"2015\",\"2016\",\"2017\",\n",
      "\n",
      "\"Aruba\",\"ABW\",\"Rural population (% of total population)\",\"SP.RUR.TOTL.ZS\",\"49.224\",\"49.239\",\"49.254\",\"49.27\",\"49.285\",\"49.3\",\"49.315\",\"49.33\",\"49.346\",\"49.361\",\"49.376\",\"49.391\",\"49.407\",\"49.422\",\"49.437\",\"49.452\",\"49.468\",\"49.483\",\"49.498\",\"49.513\",\"49.528\",\"49.544\",\"49.559\",\"49.574\",\"49.589\",\"49.605\",\"49.62\",\"49.635\",\"49.65\",\"49.665\",\"49.681\",\"49.696\",\"50.002\",\"50.412\",\"50.823\",\"51.233\",\"51.644\",\"52.054\",\"52.464\",\"52.873\",\"53.283\",\"53.661\",\"54.028\",\"54.394\",\"54.76\",\"55.125\",\"55.489\",\"55.853\",\"56.217\",\"56.579\",\"56.941\",\"57.302\",\"57.636\",\"57.942\",\"58.221\",\"58.472\",\"58.696\",\"58.893\",\n",
      "\n",
      "\"Afghanistan\",\"AFG\",\"Rural population (% of total population)\",\"SP.RUR.TOTL.ZS\",\"91.779\",\"91.492\",\"91.195\",\"90.89\",\"90.574\",\"90.25\",\"89.915\",\"89.57\",\"89.214\",\"88.848\",\"88.471\",\"88.083\",\"87.684\",\"87.274\",\"86.851\",\"86.417\",\"85.971\",\"85.513\",\"85.042\",\"84.565\",\"84.319\",\"84.07\",\"83.818\",\"83.563\",\"83.304\",\"83.042\",\"82.777\",\"82.509\",\"82.237\",\"81.962\",\"81.684\",\"81.403\",\"81.118\",\"80.83\",\"80.538\",\"80.243\",\"79.945\",\"79.644\",\"79.339\",\"79.03\",\"78.718\",\"78.404\",\"78.085\",\"77.763\",\"77.438\",\"77.105\",\"76.763\",\"76.413\",\"76.054\",\"75.687\",\"75.311\",\"74.926\",\"74.532\",\"74.129\",\"73.718\",\"73.297\",\"72.868\",\"72.43\",\n",
      "\n",
      "\"Angola\",\"AGO\",\"Rural population (% of total population)\",\"SP.RUR.TOTL.ZS\",\"89.565\",\"89.202\",\"88.796\",\"88.376\",\"87.942\",\"87.496\",\"87.035\",\"86.559\",\"86.068\",\"85.564\",\"85.043\",\"84.566\",\"84.125\",\"83.676\",\"83.215\",\"82.745\",\"82.263\",\"81.772\",\"81.27\",\"80.758\",\"80.234\",\"79.701\",\"79.157\",\"78.602\",\"78.035\",\"77.459\",\"76.872\",\"76.275\",\"75.666\",\"75.048\",\"74.418\",\"73.779\",\"73.128\",\"72.47\",\"71.8\",\"71.12\",\"70.43\",\"69.732\",\"69.025\",\"68.308\",\"67.581\",\"66.848\",\"66.105\",\"65.355\",\"64.595\",\"63.831\",\"63.058\",\"62.278\",\"61.491\",\"60.701\",\"59.903\",\"59.1\",\"58.301\",\"57.51\",\"56.726\",\"55.95\",\"55.181\",\"54.422\",\n",
      "\n",
      "\"Albania\",\"ALB\",\"Rural population (% of total population)\",\"SP.RUR.TOTL.ZS\",\"69.295\",\"69.057\",\"68.985\",\"68.914\",\"68.842\",\"68.77\",\"68.698\",\"68.626\",\"68.554\",\"68.452\",\"68.26\",\"68.067\",\"67.873\",\"67.679\",\"67.484\",\"67.288\",\"67.092\",\"66.895\",\"66.698\",\"66.5\",\"66.238\",\"65.976\",\"65.713\",\"65.448\",\"65.183\",\"64.917\",\"64.65\",\"64.381\",\"64.112\",\"63.842\",\"63.572\",\"63.3\",\"62.751\",\"62.201\",\"61.646\",\"61.089\",\"60.527\",\"59.965\",\"59.399\",\"58.831\",\"58.259\",\"57.565\",\"56.499\",\"55.427\",\"54.349\",\"53.269\",\"52.185\",\"51.098\",\"50.009\",\"48.924\",\"47.837\",\"46.753\",\"45.67\",\"44.617\",\"43.591\",\"42.593\",\"41.624\",\"40.684\",\n",
      "\n",
      "\"Andorra\",\"AND\",\"Rural population (% of total population)\",\"SP.RUR.TOTL.ZS\",\"41.55\",\"39.017\",\"36.538\",\"34.128\",\"31.795\",\"29.555\",\"27.407\",\"25.359\",\"23.412\",\"21.576\",\"19.845\",\"18.22\",\"16.699\",\"15.284\",\"13.968\",\"12.748\",\"11.618\",\"10.58\",\"9.622\",\"8.743\",\"7.93600000000001\",\"7.2\",\"6.526\",\"5.911\",\"5.351\",\"4.84099999999999\",\"4.675\",\"4.822\",\"4.973\",\"5.128\",\"5.288\",\"5.47\",\"5.676\",\"5.889\",\"6.11\",\"6.339\",\"6.575\",\"6.81999999999999\",\"7.07299999999999\",\"7.334\",\"7.605\",\"7.944\",\"8.35899999999999\",\"8.79300000000001\",\"9.249\",\"9.705\",\"10.162\",\"10.637\",\"11.133\",\"11.648\",\"12.183\",\"12.74\",\"13.292\",\"13.835\",\"14.367\",\"14.885\",\"15.388\",\"15.873\",\n",
      "\n"
     ]
    }
   ],
   "source": [
    "with open('rural_population_percent.csv','r') as file:\n",
    "    for i in range(10):\n",
    "        print(file.readline())"
   ]
  },
  {
   "cell_type": "code",
   "execution_count": 27,
   "metadata": {
    "scrolled": true
   },
   "outputs": [],
   "source": [
    "# TODO: import the pandas library\n",
    "import pandas as pd\n",
    "# TODO: read in each csv file into a separate variable\n",
    "# HINT: remember from the Extract material that these csv file have some formatting issues\n",
    "# HINT: The file paths are 'rural_population_percent.csv' and 'electricity_access_percent.csv'\n",
    "df_rural = pd.read_csv('rural_population_percent.csv',skiprows=4)\n",
    "df_electricity = pd.read_csv('electricity_access_percent.csv',skiprows=4)\n",
    "\n",
    "# TODO: remove the 'Unnamed:62' column from each data set\n",
    "df_rural,df_electricity=df_rural.iloc[:,:-1],df_electricity.iloc[:,:-1]\n",
    "# TODO: combine the two data sets together using the concat method\n",
    "# In other words, all of the rows of df_rural will come first\n",
    "# followed by all the rows in df_electricity. This is possible to do\n",
    "# because they both have the same column names.\n",
    "df=df_rural.append(df_electricity,ignore_index=True)"
   ]
  },
  {
   "cell_type": "code",
   "execution_count": 29,
   "metadata": {
    "scrolled": true
   },
   "outputs": [
    {
     "data": {
      "text/plain": [
       "(528, 62)"
      ]
     },
     "execution_count": 29,
     "metadata": {},
     "output_type": "execute_result"
    }
   ],
   "source": [
    "df.shape"
   ]
  },
  {
   "cell_type": "code",
   "execution_count": 30,
   "metadata": {},
   "outputs": [
    {
     "data": {
      "text/html": [
       "<div>\n",
       "<style scoped>\n",
       "    .dataframe tbody tr th:only-of-type {\n",
       "        vertical-align: middle;\n",
       "    }\n",
       "\n",
       "    .dataframe tbody tr th {\n",
       "        vertical-align: top;\n",
       "    }\n",
       "\n",
       "    .dataframe thead th {\n",
       "        text-align: right;\n",
       "    }\n",
       "</style>\n",
       "<table border=\"1\" class=\"dataframe\">\n",
       "  <thead>\n",
       "    <tr style=\"text-align: right;\">\n",
       "      <th></th>\n",
       "      <th>Country Name</th>\n",
       "      <th>Country Code</th>\n",
       "      <th>Indicator Name</th>\n",
       "      <th>Indicator Code</th>\n",
       "      <th>1960</th>\n",
       "      <th>1961</th>\n",
       "      <th>1962</th>\n",
       "      <th>1963</th>\n",
       "      <th>1964</th>\n",
       "      <th>1965</th>\n",
       "      <th>...</th>\n",
       "      <th>2008</th>\n",
       "      <th>2009</th>\n",
       "      <th>2010</th>\n",
       "      <th>2011</th>\n",
       "      <th>2012</th>\n",
       "      <th>2013</th>\n",
       "      <th>2014</th>\n",
       "      <th>2015</th>\n",
       "      <th>2016</th>\n",
       "      <th>2017</th>\n",
       "    </tr>\n",
       "  </thead>\n",
       "  <tbody>\n",
       "    <tr>\n",
       "      <th>0</th>\n",
       "      <td>Aruba</td>\n",
       "      <td>ABW</td>\n",
       "      <td>Rural population (% of total population)</td>\n",
       "      <td>SP.RUR.TOTL.ZS</td>\n",
       "      <td>49.224</td>\n",
       "      <td>49.239</td>\n",
       "      <td>49.254</td>\n",
       "      <td>49.27</td>\n",
       "      <td>49.285</td>\n",
       "      <td>49.30</td>\n",
       "      <td>...</td>\n",
       "      <td>56.217</td>\n",
       "      <td>56.579</td>\n",
       "      <td>56.941</td>\n",
       "      <td>57.302</td>\n",
       "      <td>57.636</td>\n",
       "      <td>57.942</td>\n",
       "      <td>58.221</td>\n",
       "      <td>58.472</td>\n",
       "      <td>58.696</td>\n",
       "      <td>58.893</td>\n",
       "    </tr>\n",
       "    <tr>\n",
       "      <th>1</th>\n",
       "      <td>Afghanistan</td>\n",
       "      <td>AFG</td>\n",
       "      <td>Rural population (% of total population)</td>\n",
       "      <td>SP.RUR.TOTL.ZS</td>\n",
       "      <td>91.779</td>\n",
       "      <td>91.492</td>\n",
       "      <td>91.195</td>\n",
       "      <td>90.89</td>\n",
       "      <td>90.574</td>\n",
       "      <td>90.25</td>\n",
       "      <td>...</td>\n",
       "      <td>76.054</td>\n",
       "      <td>75.687</td>\n",
       "      <td>75.311</td>\n",
       "      <td>74.926</td>\n",
       "      <td>74.532</td>\n",
       "      <td>74.129</td>\n",
       "      <td>73.718</td>\n",
       "      <td>73.297</td>\n",
       "      <td>72.868</td>\n",
       "      <td>72.430</td>\n",
       "    </tr>\n",
       "  </tbody>\n",
       "</table>\n",
       "<p>2 rows × 62 columns</p>\n",
       "</div>"
      ],
      "text/plain": [
       "  Country Name Country Code                            Indicator Name  \\\n",
       "0        Aruba          ABW  Rural population (% of total population)   \n",
       "1  Afghanistan          AFG  Rural population (% of total population)   \n",
       "\n",
       "   Indicator Code    1960    1961    1962   1963    1964   1965   ...    \\\n",
       "0  SP.RUR.TOTL.ZS  49.224  49.239  49.254  49.27  49.285  49.30   ...     \n",
       "1  SP.RUR.TOTL.ZS  91.779  91.492  91.195  90.89  90.574  90.25   ...     \n",
       "\n",
       "     2008    2009    2010    2011    2012    2013    2014    2015    2016  \\\n",
       "0  56.217  56.579  56.941  57.302  57.636  57.942  58.221  58.472  58.696   \n",
       "1  76.054  75.687  75.311  74.926  74.532  74.129  73.718  73.297  72.868   \n",
       "\n",
       "     2017  \n",
       "0  58.893  \n",
       "1  72.430  \n",
       "\n",
       "[2 rows x 62 columns]"
      ]
     },
     "execution_count": 30,
     "metadata": {},
     "output_type": "execute_result"
    }
   ],
   "source": [
    "df.head(2)"
   ]
  },
  {
   "cell_type": "markdown",
   "metadata": {},
   "source": [
    "# Exercise 2 (Challenge)\n",
    "\n",
    "This exercise is more challenging.\n",
    "\n",
    "Combine the two datas in the csv file together so that the output looks like the following:\n",
    "```\n",
    "|Country Name|Country Code|Year|Rural_Value|Electricity_Value|\n",
    "|--|--|--|--|--|--|\n",
    "|Aruba|ABW|1960|49.224|49.239|\n",
    "```\n",
    "... etc.\n",
    "\n",
    "Order the results in the dataframe by country and then by year\n",
    "\n",
    "Here are a few pandas methods that should be helpful:\n",
    "* [melt](http://pandas.pydata.org/pandas-docs/stable/generated/pandas.melt.html)\n",
    "* [drop](https://pandas.pydata.org/pandas-docs/stable/generated/pandas.DataFrame.drop.html)\n",
    "* [merge](https://pandas.pydata.org/pandas-docs/version/0.23/generated/pandas.DataFrame.merge.html)\n",
    "* [sort_values](https://pandas.pydata.org/pandas-docs/stable/generated/pandas.DataFrame.sort_values.html)\n",
    "\n",
    "HINT: You can use country name, country code, and the year as common keys between the data sets"
   ]
  },
  {
   "cell_type": "code",
   "execution_count": 53,
   "metadata": {},
   "outputs": [],
   "source": [
    "def meltdf(df):\n",
    "    if (df['Indicator Code']==df_rural['Indicator Code']).all():\n",
    "        return pd.melt(df, id_vars=list(df)[:2],value_vars=list(df)[4:],var_name='Year',value_name='Rural_Value')\n",
    "    else:\n",
    "        return pd.melt(df, id_vars=list(df)[:2],value_vars=list(df)[4:],var_name='Year',value_name='Electricity_Value')"
   ]
  },
  {
   "cell_type": "code",
   "execution_count": 85,
   "metadata": {},
   "outputs": [],
   "source": [
    "# TODO: merge the data sets together according to the instructions. First, use the \n",
    "# melt method to change the formatting of each data frame so that it looks like this:\n",
    "# Country Name, Country Code, Year, Rural Value\n",
    "# Country Name, Country Code, Year, Electricity Value\n",
    "df_rural_melt=meltdf(df_rural)\n",
    "df_electricity_melt=meltdf(df_electricity)\n",
    "# TODO: drop any columns from the data frames that aren't needed\n",
    "\n",
    "# TODO: merge the data frames together based on their common columns\n",
    "# in this case, the common columns are Country Name, Country Code, and Year\n",
    "df_combined=df_rural_melt.merge(df_electricity_melt)\n",
    "# TODO: sort the results by country and then by year\n",
    "\n",
    "df_combined=df_combined.sort_values(list(df_combined)[:3]).reset_index(drop=True)"
   ]
  },
  {
   "cell_type": "code",
   "execution_count": 86,
   "metadata": {},
   "outputs": [
    {
     "data": {
      "text/html": [
       "<div>\n",
       "<style scoped>\n",
       "    .dataframe tbody tr th:only-of-type {\n",
       "        vertical-align: middle;\n",
       "    }\n",
       "\n",
       "    .dataframe tbody tr th {\n",
       "        vertical-align: top;\n",
       "    }\n",
       "\n",
       "    .dataframe thead th {\n",
       "        text-align: right;\n",
       "    }\n",
       "</style>\n",
       "<table border=\"1\" class=\"dataframe\">\n",
       "  <thead>\n",
       "    <tr style=\"text-align: right;\">\n",
       "      <th></th>\n",
       "      <th>Country Name</th>\n",
       "      <th>Country Code</th>\n",
       "      <th>Year</th>\n",
       "      <th>Rural_Value</th>\n",
       "      <th>Electricity_Value</th>\n",
       "    </tr>\n",
       "  </thead>\n",
       "  <tbody>\n",
       "    <tr>\n",
       "      <th>0</th>\n",
       "      <td>Afghanistan</td>\n",
       "      <td>AFG</td>\n",
       "      <td>1960</td>\n",
       "      <td>91.779</td>\n",
       "      <td>NaN</td>\n",
       "    </tr>\n",
       "    <tr>\n",
       "      <th>1</th>\n",
       "      <td>Afghanistan</td>\n",
       "      <td>AFG</td>\n",
       "      <td>1961</td>\n",
       "      <td>91.492</td>\n",
       "      <td>NaN</td>\n",
       "    </tr>\n",
       "    <tr>\n",
       "      <th>2</th>\n",
       "      <td>Afghanistan</td>\n",
       "      <td>AFG</td>\n",
       "      <td>1962</td>\n",
       "      <td>91.195</td>\n",
       "      <td>NaN</td>\n",
       "    </tr>\n",
       "    <tr>\n",
       "      <th>3</th>\n",
       "      <td>Afghanistan</td>\n",
       "      <td>AFG</td>\n",
       "      <td>1963</td>\n",
       "      <td>90.890</td>\n",
       "      <td>NaN</td>\n",
       "    </tr>\n",
       "    <tr>\n",
       "      <th>4</th>\n",
       "      <td>Afghanistan</td>\n",
       "      <td>AFG</td>\n",
       "      <td>1964</td>\n",
       "      <td>90.574</td>\n",
       "      <td>NaN</td>\n",
       "    </tr>\n",
       "  </tbody>\n",
       "</table>\n",
       "</div>"
      ],
      "text/plain": [
       "  Country Name Country Code  Year  Rural_Value  Electricity_Value\n",
       "0  Afghanistan          AFG  1960       91.779                NaN\n",
       "1  Afghanistan          AFG  1961       91.492                NaN\n",
       "2  Afghanistan          AFG  1962       91.195                NaN\n",
       "3  Afghanistan          AFG  1963       90.890                NaN\n",
       "4  Afghanistan          AFG  1964       90.574                NaN"
      ]
     },
     "execution_count": 86,
     "metadata": {},
     "output_type": "execute_result"
    }
   ],
   "source": [
    "df_combined.head()"
   ]
  }
 ],
 "metadata": {
  "kernelspec": {
   "display_name": "Python 3",
   "language": "python",
   "name": "python3"
  },
  "language_info": {
   "codemirror_mode": {
    "name": "ipython",
    "version": 3
   },
   "file_extension": ".py",
   "mimetype": "text/x-python",
   "name": "python",
   "nbconvert_exporter": "python",
   "pygments_lexer": "ipython3",
   "version": "3.6.3"
  }
 },
 "nbformat": 4,
 "nbformat_minor": 2
}
