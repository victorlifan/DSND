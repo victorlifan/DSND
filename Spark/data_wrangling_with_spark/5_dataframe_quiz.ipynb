{
 "cells": [
  {
   "cell_type": "markdown",
   "metadata": {},
   "source": [
    "# Data Wrangling with DataFrames Coding Quiz\n",
    "\n",
    "Use this Jupyter notebook to find the answers to the quiz in the previous section. There is an answer key in the next part of the lesson."
   ]
  },
  {
   "cell_type": "code",
   "execution_count": 89,
   "metadata": {},
   "outputs": [],
   "source": [
    "from pyspark.sql import SparkSession\n",
    "from pyspark.sql.functions import countDistinct,count,desc,udf,avg, round\n",
    "from pyspark.sql.functions import sum as Fsum\n",
    "from pyspark.sql import Window\n",
    "from pyspark.sql.types import IntegerType\n",
    "# TODOS: \n",
    "# 1) import any other libraries you might need\n",
    "# 2) instantiate a Spark session \n",
    "# 3) read in the data set located at the path \"data/sparkify_log_small.json\"\n",
    "# 4) write code to answer the quiz questions "
   ]
  },
  {
   "cell_type": "code",
   "execution_count": 3,
   "metadata": {},
   "outputs": [],
   "source": [
    "spark=SparkSession \\\n",
    "    .builder \\\n",
    "    .getOrCreate()"
   ]
  },
  {
   "cell_type": "code",
   "execution_count": 4,
   "metadata": {},
   "outputs": [
    {
     "data": {
      "text/plain": [
       "[('spark.app.id', 'local-1593740569233'),\n",
       " ('spark.rdd.compress', 'True'),\n",
       " ('spark.serializer.objectStreamReset', '100'),\n",
       " ('spark.master', 'local[*]'),\n",
       " ('spark.executor.id', 'driver'),\n",
       " ('spark.submit.deployMode', 'client'),\n",
       " ('spark.driver.host', 'f3e0d7e67d14'),\n",
       " ('spark.ui.showConsoleProgress', 'true'),\n",
       " ('spark.driver.port', '44013'),\n",
       " ('spark.app.name', 'pyspark-shell')]"
      ]
     },
     "execution_count": 4,
     "metadata": {},
     "output_type": "execute_result"
    }
   ],
   "source": [
    "spark.sparkContext.getConf().getAll()"
   ]
  },
  {
   "cell_type": "code",
   "execution_count": 5,
   "metadata": {},
   "outputs": [],
   "source": [
    "path= \"data/sparkify_log_small.json\"\n",
    "user_log=spark.read.json(path)"
   ]
  },
  {
   "cell_type": "code",
   "execution_count": 6,
   "metadata": {},
   "outputs": [
    {
     "name": "stdout",
     "output_type": "stream",
     "text": [
      "root\n",
      " |-- artist: string (nullable = true)\n",
      " |-- auth: string (nullable = true)\n",
      " |-- firstName: string (nullable = true)\n",
      " |-- gender: string (nullable = true)\n",
      " |-- itemInSession: long (nullable = true)\n",
      " |-- lastName: string (nullable = true)\n",
      " |-- length: double (nullable = true)\n",
      " |-- level: string (nullable = true)\n",
      " |-- location: string (nullable = true)\n",
      " |-- method: string (nullable = true)\n",
      " |-- page: string (nullable = true)\n",
      " |-- registration: long (nullable = true)\n",
      " |-- sessionId: long (nullable = true)\n",
      " |-- song: string (nullable = true)\n",
      " |-- status: long (nullable = true)\n",
      " |-- ts: long (nullable = true)\n",
      " |-- userAgent: string (nullable = true)\n",
      " |-- userId: string (nullable = true)\n",
      "\n"
     ]
    }
   ],
   "source": [
    "user_log.printSchema()"
   ]
  },
  {
   "cell_type": "markdown",
   "metadata": {},
   "source": [
    "# Question 1\n",
    "\n",
    "Which page did user id \"\" (empty string) NOT visit?"
   ]
  },
  {
   "cell_type": "code",
   "execution_count": 7,
   "metadata": {},
   "outputs": [
    {
     "name": "stdout",
     "output_type": "stream",
     "text": [
      "+----------------+\n",
      "|            page|\n",
      "+----------------+\n",
      "|Submit Downgrade|\n",
      "|            Home|\n",
      "|       Downgrade|\n",
      "|          Logout|\n",
      "|   Save Settings|\n",
      "|           About|\n",
      "|        Settings|\n",
      "|           Login|\n",
      "|        NextSong|\n",
      "|            Help|\n",
      "|         Upgrade|\n",
      "|           Error|\n",
      "|  Submit Upgrade|\n",
      "+----------------+\n",
      "\n"
     ]
    }
   ],
   "source": [
    "user_log.select(\"page\").dropDuplicates().show()"
   ]
  },
  {
   "cell_type": "code",
   "execution_count": 8,
   "metadata": {
    "scrolled": true
   },
   "outputs": [
    {
     "name": "stdout",
     "output_type": "stream",
     "text": [
      "+-----+\n",
      "| page|\n",
      "+-----+\n",
      "| Home|\n",
      "|About|\n",
      "|Login|\n",
      "| Help|\n",
      "+-----+\n",
      "\n"
     ]
    }
   ],
   "source": [
    "# TODO: write your code to answer question 1\n",
    "user_log.select(\"page\").where(user_log['userId']==\"\").dropDuplicates().show()"
   ]
  },
  {
   "cell_type": "code",
   "execution_count": 55,
   "metadata": {},
   "outputs": [
    {
     "data": {
      "text/plain": [
       "{Row(page='Downgrade'),\n",
       " Row(page='Error'),\n",
       " Row(page='Logout'),\n",
       " Row(page='NextSong'),\n",
       " Row(page='Save Settings'),\n",
       " Row(page='Settings'),\n",
       " Row(page='Submit Downgrade'),\n",
       " Row(page='Submit Upgrade'),\n",
       " Row(page='Upgrade')}"
      ]
     },
     "execution_count": 55,
     "metadata": {},
     "output_type": "execute_result"
    }
   ],
   "source": [
    "# filter for users with blank id\n",
    "blank=user_log.where(user_log.userId=='').select('page').dropDuplicates()\n",
    "\n",
    "# list of all possible pages\n",
    "allpages=user_log.select('page').dropDuplicates()\n",
    "\n",
    "# find values in all_pages that are not in blank_pages\n",
    "# these are the pages that the blank user did not go to\n",
    "set(allpages.collect())-set(blank.collect())"
   ]
  },
  {
   "cell_type": "markdown",
   "metadata": {},
   "source": [
    "# Question 2 - Reflect\n",
    "\n",
    "What type of user does the empty string user id most likely refer to?\n"
   ]
  },
  {
   "cell_type": "code",
   "execution_count": 9,
   "metadata": {
    "scrolled": true
   },
   "outputs": [
    {
     "name": "stdout",
     "output_type": "stream",
     "text": [
      "+------+----------+---------+------+-------------+--------+------+-----+--------+------+-----+------------+---------+----+------+-------------+---------+------+\n",
      "|artist|      auth|firstName|gender|itemInSession|lastName|length|level|location|method| page|registration|sessionId|song|status|           ts|userAgent|userId|\n",
      "+------+----------+---------+------+-------------+--------+------+-----+--------+------+-----+------------+---------+----+------+-------------+---------+------+\n",
      "|  null|Logged Out|     null|  null|            0|    null|  null| free|    null|   PUT|Login|        null|     5598|null|   307|1513721196284|     null|      |\n",
      "|  null|Logged Out|     null|  null|           26|    null|  null| paid|    null|   GET| Home|        null|      428|null|   200|1513721274284|     null|      |\n",
      "|  null|Logged Out|     null|  null|            5|    null|  null| free|    null|   GET| Home|        null|     2941|null|   200|1513722009284|     null|      |\n",
      "|  null|Logged Out|     null|  null|            5|    null|  null| paid|    null|   GET| Home|        null|     5243|null|   200|1513723183284|     null|      |\n",
      "|  null|Logged Out|     null|  null|            6|    null|  null| paid|    null|   PUT|Login|        null|     5243|null|   307|1513723184284|     null|      |\n",
      "|  null|Logged Out|     null|  null|            0|    null|  null| free|    null|   PUT|Login|        null|     1477|null|   307|1513723587284|     null|      |\n",
      "|  null|Logged Out|     null|  null|           14|    null|  null| paid|    null|   GET| Home|        null|     5243|null|   200|1513724475284|     null|      |\n",
      "|  null|Logged Out|     null|  null|            7|    null|  null| paid|    null|   GET| Home|        null|     4108|null|   200|1513724530284|     null|      |\n",
      "|  null|Logged Out|     null|  null|            0|    null|  null| paid|    null|   PUT|Login|        null|     5764|null|   307|1513728229284|     null|      |\n",
      "|  null|Logged Out|     null|  null|            0|    null|  null| paid|    null|   GET| Home|        null|     5566|null|   200|1513729051284|     null|      |\n",
      "|  null|Logged Out|     null|  null|            1|    null|  null| paid|    null|   PUT|Login|        null|     5566|null|   307|1513729052284|     null|      |\n",
      "|  null|Logged Out|     null|  null|            0|    null|  null| paid|    null|   GET| Home|        null|     3697|null|   200|1513729376284|     null|      |\n",
      "|  null|Logged Out|     null|  null|            1|    null|  null| paid|    null|   GET| Help|        null|     3697|null|   200|1513729445284|     null|      |\n",
      "|  null|Logged Out|     null|  null|           60|    null|  null| paid|    null|   GET| Home|        null|     5175|null|   200|1513729762284|     null|      |\n",
      "|  null|Logged Out|     null|  null|           61|    null|  null| paid|    null|   PUT|Login|        null|     5175|null|   307|1513729763284|     null|      |\n",
      "|  null|Logged Out|     null|  null|            0|    null|  null| free|    null|   GET| Home|        null|      511|null|   200|1513730128284|     null|      |\n",
      "|  null|Logged Out|     null|  null|            1|    null|  null| free|    null|   PUT|Login|        null|      511|null|   307|1513730129284|     null|      |\n",
      "|  null|Logged Out|     null|  null|            0|    null|  null| free|    null|   GET| Home|        null|     2992|null|   200|1513730621284|     null|      |\n",
      "|  null|Logged Out|     null|  null|            1|    null|  null| free|    null|   PUT|Login|        null|     2992|null|   307|1513730622284|     null|      |\n",
      "|  null|Logged Out|     null|  null|            8|    null|  null| paid|    null|   GET| Home|        null|     4239|null|   200|1513730953284|     null|      |\n",
      "+------+----------+---------+------+-------------+--------+------+-----+--------+------+-----+------------+---------+----+------+-------------+---------+------+\n",
      "only showing top 20 rows\n",
      "\n"
     ]
    }
   ],
   "source": [
    "# TODO: use this space to explore the behavior of the user with an empty string\n",
    "user_log.select(\"*\").where(user_log['userId']==\"\").show()"
   ]
  },
  {
   "cell_type": "markdown",
   "metadata": {},
   "source": [
    "# Question 3\n",
    "\n",
    "How many female users do we have in the data set?"
   ]
  },
  {
   "cell_type": "code",
   "execution_count": 10,
   "metadata": {},
   "outputs": [
    {
     "name": "stdout",
     "output_type": "stream",
     "text": [
      "+------+\n",
      "|gender|\n",
      "+------+\n",
      "|     F|\n",
      "|  null|\n",
      "|     M|\n",
      "+------+\n",
      "\n"
     ]
    }
   ],
   "source": [
    "user_log.select('gender').dropDuplicates().show()"
   ]
  },
  {
   "cell_type": "code",
   "execution_count": 11,
   "metadata": {
    "scrolled": true
   },
   "outputs": [
    {
     "name": "stdout",
     "output_type": "stream",
     "text": [
      "+------+----------------------+\n",
      "|gender|count(DISTINCT userId)|\n",
      "+------+----------------------+\n",
      "|     F|                   462|\n",
      "|  null|                     1|\n",
      "|     M|                   501|\n",
      "+------+----------------------+\n",
      "\n"
     ]
    }
   ],
   "source": [
    "# TODO: write your code to answer question 3\n",
    "user_log.groupby(user_log['gender']).agg(countDistinct(\"userId\")).show()"
   ]
  },
  {
   "cell_type": "code",
   "execution_count": 36,
   "metadata": {},
   "outputs": [
    {
     "name": "stdout",
     "output_type": "stream",
     "text": [
      "+----------------------+\n",
      "|count(DISTINCT userId)|\n",
      "+----------------------+\n",
      "|                   462|\n",
      "+----------------------+\n",
      "\n"
     ]
    }
   ],
   "source": [
    "user_log.where(user_log.gender=='F').select('userId','gender').agg(countDistinct(\"userId\")).show()"
   ]
  },
  {
   "cell_type": "markdown",
   "metadata": {},
   "source": [
    "# Question 4\n",
    "\n",
    "How many songs were played from the most played artist?"
   ]
  },
  {
   "cell_type": "code",
   "execution_count": 59,
   "metadata": {},
   "outputs": [
    {
     "name": "stdout",
     "output_type": "stream",
     "text": [
      "+--------------------+-----+\n",
      "|              artist|count|\n",
      "+--------------------+-----+\n",
      "|            Coldplay|   83|\n",
      "|       Kings Of Leon|   69|\n",
      "|Florence + The Ma...|   52|\n",
      "|            BjÃÂ¶rk|   46|\n",
      "|       Dwight Yoakam|   45|\n",
      "|       Justin Bieber|   43|\n",
      "|      The Black Keys|   40|\n",
      "|         OneRepublic|   37|\n",
      "|                Muse|   36|\n",
      "|        Jack Johnson|   36|\n",
      "|           Radiohead|   31|\n",
      "|        Taylor Swift|   29|\n",
      "|Barry Tuckwell/Ac...|   28|\n",
      "|          Lily Allen|   28|\n",
      "|               Train|   28|\n",
      "|           Daft Punk|   27|\n",
      "|           Metallica|   27|\n",
      "|          Nickelback|   27|\n",
      "|          Kanye West|   26|\n",
      "|Red Hot Chili Pep...|   24|\n",
      "+--------------------+-----+\n",
      "only showing top 20 rows\n",
      "\n"
     ]
    }
   ],
   "source": [
    "# TODO: write your code to answer question 4\n",
    "user_log.where(user_log.artist==user_log.artist).groupby(\"artist\").count().sort(desc(\"count\")).show()"
   ]
  },
  {
   "cell_type": "markdown",
   "metadata": {},
   "source": [
    "# Question 5 (challenge)\n",
    "\n",
    "How many songs do users listen to on average between visiting our home page? Please round your answer to the closest integer.\n",
    "\n"
   ]
  },
  {
   "cell_type": "code",
   "execution_count": 66,
   "metadata": {
    "scrolled": true
   },
   "outputs": [
    {
     "name": "stdout",
     "output_type": "stream",
     "text": [
      "+------+--------+-------------+---------+------+\n",
      "|userId|    page|           ts|homevisit|period|\n",
      "+------+--------+-------------+---------+------+\n",
      "|  1436|NextSong|1513783259284|        0|     0|\n",
      "|  1436|NextSong|1513782858284|        0|     0|\n",
      "|  2088|    Home|1513805972284|        1|     1|\n",
      "|  2088|NextSong|1513805859284|        0|     1|\n",
      "|  2088|NextSong|1513805494284|        0|     1|\n",
      "|  2088|NextSong|1513805065284|        0|     1|\n",
      "|  2088|NextSong|1513804786284|        0|     1|\n",
      "|  2088|NextSong|1513804555284|        0|     1|\n",
      "|  2088|NextSong|1513804196284|        0|     1|\n",
      "|  2088|NextSong|1513803967284|        0|     1|\n",
      "|  2088|NextSong|1513803820284|        0|     1|\n",
      "|  2088|NextSong|1513803651284|        0|     1|\n",
      "|  2088|NextSong|1513803413284|        0|     1|\n",
      "|  2088|NextSong|1513803254284|        0|     1|\n",
      "|  2088|NextSong|1513803057284|        0|     1|\n",
      "|  2088|NextSong|1513802824284|        0|     1|\n",
      "|  2162|NextSong|1513781246284|        0|     0|\n",
      "|  2162|NextSong|1513781065284|        0|     0|\n",
      "|  2162|NextSong|1513780860284|        0|     0|\n",
      "|  2162|NextSong|1513780569284|        0|     0|\n",
      "+------+--------+-------------+---------+------+\n",
      "only showing top 20 rows\n",
      "\n"
     ]
    }
   ],
   "source": [
    "# TODO: write your code to answer question 5\n",
    "# filter out 0 sum and max sum to get more exact anser\n",
    "function=udf(lambda ishome: int(ishome=='Home'), IntegerType())\n",
    "\n",
    "user_window=Window.partitionBy('userId').orderBy(desc('ts'))\n",
    "\n",
    "cusum=user_log.where((user_log.page=='NextSong') | (user_log.page=='Home'))\\\n",
    "        .select('userId','page','ts') \\\n",
    "        .withColumn('homevisit',function(user_log.page))\\\n",
    "        .withColumn('period', Fsum('homevisit').over(user_window))\n",
    "cusum.show()"
   ]
  },
  {
   "cell_type": "code",
   "execution_count": 107,
   "metadata": {
    "scrolled": true
   },
   "outputs": [
    {
     "name": "stdout",
     "output_type": "stream",
     "text": [
      "+------------------+\n",
      "|avg(count(period))|\n",
      "+------------------+\n",
      "| 6.898347107438017|\n",
      "+------------------+\n",
      "\n"
     ]
    }
   ],
   "source": [
    "result=cusum.where(cusum.page=='NextSong')\\\n",
    "    .groupBy('userId','period')\\\n",
    "    .agg({'period':'count'})\\\n",
    "    .agg({'count(period)':'avg'})\n",
    "result.show()"
   ]
  },
  {
   "cell_type": "code",
   "execution_count": 109,
   "metadata": {},
   "outputs": [
    {
     "name": "stdout",
     "output_type": "stream",
     "text": [
      "+------------------+-------+\n",
      "|avg(count(period))|avgsong|\n",
      "+------------------+-------+\n",
      "| 6.898347107438017|      7|\n",
      "+------------------+-------+\n",
      "\n"
     ]
    }
   ],
   "source": [
    "result.withColumn('avgsong',round(result['avg(count(period))']).cast('integer')).show()"
   ]
  },
  {
   "cell_type": "code",
   "execution_count": 87,
   "metadata": {},
   "outputs": [
    {
     "name": "stdout",
     "output_type": "stream",
     "text": [
      "+----------------+\n",
      "|      avg(count)|\n",
      "+----------------+\n",
      "|9.87810650887574|\n",
      "+----------------+\n",
      "\n"
     ]
    }
   ],
   "source": [
    "# wrong answer\n",
    "#user_log.where(user_log.song==user_log.song).groupBy('userId').count()\\\n",
    "#    .agg(avg('count')).show()"
   ]
  }
 ],
 "metadata": {
  "kernelspec": {
   "display_name": "Python 3",
   "language": "python",
   "name": "python3"
  },
  "language_info": {
   "codemirror_mode": {
    "name": "ipython",
    "version": 3
   },
   "file_extension": ".py",
   "mimetype": "text/x-python",
   "name": "python",
   "nbconvert_exporter": "python",
   "pygments_lexer": "ipython3",
   "version": "3.6.3"
  }
 },
 "nbformat": 4,
 "nbformat_minor": 2
}
